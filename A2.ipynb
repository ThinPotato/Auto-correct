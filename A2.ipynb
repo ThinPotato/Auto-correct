{
 "cells": [
  {
   "cell_type": "code",
   "execution_count": 2,
   "metadata": {
    "executionInfo": {
     "elapsed": 181,
     "status": "ok",
     "timestamp": 1615908962928,
     "user": {
      "displayName": "Yan Ma",
      "photoUrl": "",
      "userId": "13133035010264584735"
     },
     "user_tz": 240
    },
    "id": "keicKV6X8Y0Y"
   },
   "outputs": [],
   "source": [
    "import pandas as pd\n",
    "import numpy as np\n",
    "import matplotlib.pyplot as plt\n",
    "import scipy.stats as stats\n",
    "import csv\n",
    "import math\n",
    "import pickle\n",
    "import random\n",
    "from collections import defaultdict"
   ]
  },
  {
   "cell_type": "markdown",
   "metadata": {
    "id": "8zk2tzdcynYn"
   },
   "source": [
    "# **Read Inputs**"
   ]
  },
  {
   "cell_type": "code",
   "execution_count": 11,
   "metadata": {
    "id": "lpfFShdy3e5J"
   },
   "outputs": [
    {
     "data": {
      "text/plain": "defaultdict(dict,\n            {'Word 0': ['a', 4.819348, 13.72294],\n             'Word 1': ['m', 28.266672, 16.68519],\n             'Word 2': ['h', 22.114313, 13.22164],\n             'Word 3': ['e', 9.809595, 9.48465],\n             'Word 4': ['e', 9.809595, 8.57319],\n             'Word 5': ['e', 9.296898, 9.16564],\n             'Word 6': ['e', 9.296898, 8.70991],\n             'Word 7': ['r', 12.407257, 8.80106],\n             'Word 8': ['e', 10.014673, 8.84663],\n             'Word 9': ['e', 9.8779545, 9.25679],\n             'Word 10': ['n', 24.609436, 17.186],\n             'Word 11': ['e', 9.125999, 9.39351],\n             'Word 12': ['k', 28.027412, 11.07971],\n             'Word 13': ['f', 14.389684, 13.72294],\n             'Word 14': ['e', 8.750022, 9.0745],\n             'Word 15': ['y', 19.790089, 8.3909],\n             'Word 16': ['e', 9.433618, 8.98335],\n             'Word 17': ['e', 9.467797, 7.7073],\n             'Word 18': ['o', 30.761795, 7.798455],\n             'Word 19': ['t', 16.269571, 9.0745],\n             'Word 20': ['s', 8.715842, 12.99378],\n             'Word 21': ['e', 10.117212, 9.02892],\n             'Word 22': ['r', 13.671909, 8.66434],\n             'Word 23': ['s', 6.1865387, 13.76852],\n             'Word 24': ['e', 9.672875, 9.6669],\n             'Word 25': ['e', 9.570336, 8.66434],\n             'Word 26': ['h', 21.943415, 13.26722],\n             'Word 27': ['t', 15.312538, 8.48205],\n             'Word 28': ['r', 12.749055, 7.8896],\n             'Word 29': ['w', 6.1181793, 8.52762],\n             'Word 30': ['s', 7.006853, 13.17607],\n             'Word 31': ['y', 19.311571, 8.20861],\n             'Word 32': ['e', 9.365257, 8.70991],\n             'Word 33': ['t', 17.329145, 8.57319],\n             'Word 34': ['f', 14.526403, 12.90263],\n             'Word 35': ['t', 15.996134, 8.66434],\n             'Word 36': ['t', 16.71391, 8.34533],\n             'Word 37': ['u', 24.096739, 8.66434],\n             'Word 38': ['l', 31.889727, 14.08753],\n             'Word 39': ['n', 24.848694, 17.64223],\n             'Word 40': ['i', 26.352604, 6.704704],\n             'Word 41': ['e', 9.536157, 8.11746],\n             'Word 42': ['h', 21.464897, 11.53544],\n             'Word 43': ['r', 13.364291, 8.29975],\n             'Word 44': ['r', 13.842808, 9.347939],\n             'Word 45': ['n', 25.42975, 17.45993],\n             'Word 46': ['s', 8.408224, 12.9482],\n             'Word 47': ['s', 8.579123, 13.40393],\n             'Word 48': ['e', 10.390651, 8.43647],\n             'Word 49': ['k', 29.018627, 11.9456],\n             'Word 50': ['f', 15.073279, 13.03935],\n             'Word 51': ['a', 5.0244265, 12.81148],\n             'Word 52': ['n', 25.019594, 17.59665],\n             'Word 53': ['a', 4.8535275, 11.67216],\n             'Word 54': ['n', 24.882874, 15.36357],\n             'Word 55': ['o', 30.932693, 7.7073],\n             'Word 56': ['r', 14.765661, 7.8896],\n             'Word 57': ['a', 5.571303, 13.03935],\n             'Word 58': ['t', 16.235392, 8.6187],\n             'Word 59': ['e', 10.356471, 8.48205],\n             'Word 60': ['e', 8.852561, 9.347939],\n             'Word 61': ['d', 10.698269, 13.35836],\n             'Word 62': ['s', 7.9638867, 12.08232],\n             'Word 63': ['a', 4.2382917, 12.17346],\n             'Word 64': ['e', 8.98928, 8.25418],\n             'Word 65': ['e', 9.536157, 8.66434],\n             'Word 66': ['s', 6.6308756, 13.03935],\n             'Word 67': ['t', 16.33793, 8.48205],\n             'Word 68': ['e', 9.912134, 7.844029],\n             'Word 69': ['e', 9.638696, 8.25418],\n             'Word 70': ['e', 9.262718, 8.48205],\n             'Word 71': ['o', 29.702223, 8.3909],\n             'Word 72': ['e', 10.083033, 7.844029],\n             'Word 73': ['o', 29.770582, 7.388299],\n             'Word 74': ['u', 23.173885, 8.57319],\n             'Word 75': ['t', 16.303751, 7.661736],\n             'Word 76': ['e', 9.775414, 8.07189],\n             'Word 77': ['g', 18.627975, 12.62919],\n             'Word 78': ['d', 12.03128, 13.08492],\n             'Word 79': ['r', 13.9795265, 8.52762],\n             'Word 80': ['a', 5.297865, 11.9456],\n             'Word 81': ['r', 13.295932, 9.80366],\n             'Word 82': ['e', 9.604516, 8.43647],\n             'Word 83': ['s', 8.100606, 12.72034],\n             'Word 84': ['y', 19.003954, 7.069287],\n             'Word 85': ['s', 8.305685, 12.3557],\n             'Word 86': ['e', 9.570336, 9.0745],\n             'Word 87': ['e', 9.262718, 7.798455],\n             'Word 88': ['s', 4.54591, 12.62919],\n             'Word 89': ['f', 14.252965, 12.40133],\n             'Word 90': ['h', 21.123098, 12.3557],\n             'Word 91': ['n', 24.301819, 15.95602],\n             'Word 92': ['r', 12.988314, 8.80106],\n             'Word 93': ['u', 23.242245, 8.8922],\n             'Word 94': ['t', 16.064493, 7.980748],\n             'Word 95': ['e', 10.356471, 7.616163],\n             'Word 96': ['e', 9.05764, 8.11746],\n             'Word 97': ['u', 21.943415, 7.844029],\n             'Word 98': ['g', 16.67973, 12.53805],\n             'Word 99': ['o', 29.531322, 8.57319],\n             'Word 100': ['e', 9.741235, 7.525018],\n             'Word 101': ['e', 8.715842, 9.02892],\n             'Word 102': ['r', 13.125032, 8.11746],\n             'Word 103': ['f', 14.355504, 13.44951],\n             'Word 104': ['l', 30.932693, 12.49247],\n             'Word 105': ['y', 19.311571, 8.3909],\n             'Word 106': ['t', 29.804762, 6.112253],\n             'Word 107': ['n', 25.019594, 16.1383],\n             'Word 108': ['m', 29.9073, 18.0523],\n             'Word 109': ['e', 9.707055, 6.750276],\n             'Word 110': ['e', 9.707055, 7.206006],\n             'Word 111': ['e', 8.886741, 8.57319],\n             'Word 112': ['e', 9.433618, 7.069287],\n             'Word 113': ['s', 8.408224, 11.85445],\n             'Word 114': ['h', 21.806694, 12.12789],\n             'Word 115': ['u', 22.182673, 7.02371],\n             'Word 116': ['o', 29.121166, 7.570591],\n             'Word 117': ['t', 15.415077, 8.11746],\n             'Word 118': ['y', 19.37993, 8.52762],\n             'Word 119': ['g', 17.055706, 12.26461],\n             'Word 120': ['u', 23.002987, 8.29975],\n             'Word 121': ['e', 9.296898, 8.11746],\n             'Word 122': ['t', 15.551796, 7.7073],\n             'Word 123': ['a', 4.819348, 11.398725],\n             'Word 124': ['i', 26.079166, 8.07189],\n             'Word 125': ['t', 15.620156, 9.347939],\n             'Word 126': ['i', 25.839909, 6.56798],\n             'Word 127': ['e', 8.647482, 8.66434],\n             'Word 128': ['h', 21.123098, 11.80888],\n             'Word 129': ['u', 23.515684, 7.388299],\n             'Word 130': ['s', 6.494157, 13.1305],\n             'Word 131': ['u', 23.344784, 7.7073],\n             'Word 132': ['e', 9.262718, 7.525018],\n             'Word 133': ['y', 19.65337, 6.476838],\n             'Word 134': ['t', 16.303751, 7.980748],\n             'Word 135': ['u', 22.148493, 8.57319],\n             'Word 136': ['e', 9.946314, 8.43647],\n             'Word 137': ['l', 30.830154, 11.12528],\n             'Word 138': ['o', 30.11238, 6.750276],\n             'Word 139': ['t', 14.936561, 6.795849],\n             'Word 140': ['r', 13.569369, 6.932568],\n             'Word 141': ['r', 14.321324, 6.203],\n             'Word 142': ['e', 9.05764, 6.88699],\n             'Word 143': ['r', 11.108426, 7.479444],\n             'Word 144': ['l', 30.249098, 10.25939],\n             'Word 145': ['s', 7.1093926, 10.98856],\n             'Word 146': ['y', 20.88384, 8.48205],\n             'Word 147': ['y', 20.200245, 8.8922],\n             'Word 148': ['e', 10.117212, 7.75288],\n             'Word 149': ['s', 8.305685, 12.219],\n             'Word 150': ['f', 14.526403, 12.219],\n             'Word 151': ['s', 8.237325, 11.85445],\n             'Word 152': ['l', 30.180738, 10.0771],\n             'Word 153': ['k', 28.198313, 11.6265],\n             'Word 154': ['d', 9.775414, 10.89742],\n             'Word 155': ['o', 30.385818, 5.79324],\n             'Word 156': ['y', 20.200245, 6.932568],\n             'Word 157': ['d', 10.698269, 12.03674],\n             'Word 158': ['u', 22.52447, 6.24897],\n             'Word 159': ['e', 8.374044, 8.20861],\n             'Word 160': ['a', 4.9218874, 12.219],\n             'Word 161': ['d', 9.467797, 12.76591],\n             'Word 162': ['e', 9.570336, 7.798455]})"
     },
     "execution_count": 11,
     "metadata": {},
     "output_type": "execute_result"
    }
   ],
   "source": [
    "# Read user data\n",
    "lastWord = \"\"\n",
    "words = defaultdict(dict)\n",
    "with open('Data/Example/example_data.txt', 'r') as input:\n",
    "    for line in input:\n",
    "        line.strip\n",
    "        if line.startswith(\"===\"):\n",
    "            words[str(line)[3:len(str(line))-4]] = []\n",
    "            lastWord = str(line)[3:len(str(line))-4]\n",
    "        else:\n",
    "            touchpoints = str(line)[0:len(str(line))-2].split(\" \")\n",
    "            touchpoints[0] = str(line[0:1])\n",
    "            touchpoints[1] = float(touchpoints[1])\n",
    "            touchpoints[2] = float(touchpoints[2])\n",
    "            words[lastWord].append(touchpoints)\n",
    "words"
   ]
  },
  {
   "cell_type": "code",
   "execution_count": null,
   "metadata": {
    "colab": {
     "base_uri": "https://localhost:8080/",
     "height": 857
    },
    "executionInfo": {
     "elapsed": 866,
     "status": "ok",
     "timestamp": 1615913307462,
     "user": {
      "displayName": "Yan Ma",
      "photoUrl": "",
      "userId": "13133035010264584735"
     },
     "user_tz": 240
    },
    "id": "34cXvsWno6Yv",
    "outputId": "96c3f6f7-2867-4996-bd8e-0190d649e806"
   },
   "outputs": [],
   "source": [
    "# Read dictionary\n",
    "with open('Data/unigram.dict', 'rb') as unigramModelFile:\n",
    "    unigramModel = pickle.load(unigramModelFile)\n",
    "unigramModelFile.close()\n",
    "\n",
    "# Read keyboard data\n",
    "keyboard_raw = pd.read_csv(\"Data/keyboard.csv\")\n",
    "keyboard = keyboard_raw[['key', 'x_mm', 'y_mm']]\n",
    "keyboard"
   ]
  },
  {
   "cell_type": "markdown",
   "metadata": {
    "id": "nuntaNwhyuJj"
   },
   "source": [
    "# **Unigram Language Model Decoder**"
   ]
  },
  {
   "cell_type": "code",
   "execution_count": null,
   "metadata": {
    "executionInfo": {
     "elapsed": 229,
     "status": "ok",
     "timestamp": 1615909214779,
     "user": {
      "displayName": "Yan Ma",
      "photoUrl": "",
      "userId": "13133035010264584735"
     },
     "user_tz": 240
    },
    "id": "AaTGhNueN9hD"
   },
   "outputs": [],
   "source": [
    "# Keyboard size and dual Gaussian model parameters\n",
    "key_width = 3\n",
    "key_height = 4\n",
    "a = 2.403\n",
    "b = 0.017\n",
    "c = 2.295\n",
    "d = 0.016\n",
    "\n",
    "def get_likelihood(p, mu, sigma):\n",
    "    \"\"\"\n",
    "    TODO: Calculate the likelihood that a touch point p is from the 2D Gaussian distribution N(mu, sigma)\n",
    "    \"\"\"\n",
    "    lik = \n",
    "    return lik\n",
    "\n",
    "def is_letter(p, letter):\n",
    "    \"\"\"\n",
    "    TODO: Determine if touch point p is located inside the boundary of the key: letter\n",
    "    \"\"\"\n",
    "    return False \n",
    "\n",
    "def get_literal_string(touchpoints):\n",
    "    \"\"\" \n",
    "    TODO: Compute the literal string using is_letter(p, letter) method for a collection of touch points that represents a word. \n",
    "          If a touch point does not fall inside any key boundary, use '?' to represent the corresponding character.\n",
    "    \"\"\"\n",
    "    literal_string = \"\"\n",
    "    \n",
    "    return literal_string"
   ]
  },
  {
   "cell_type": "code",
   "execution_count": null,
   "metadata": {
    "executionInfo": {
     "elapsed": 283,
     "status": "ok",
     "timestamp": 1615909358093,
     "user": {
      "displayName": "Yan Ma",
      "photoUrl": "",
      "userId": "13133035010264584735"
     },
     "user_tz": 240
    },
    "id": "_op29UXGRmc0"
   },
   "outputs": [],
   "source": [
    "def unigram_lm_decoder(touchpoints):\n",
    "    \"\"\"\n",
    "    A language decoder that uses the dual Gaussian touch point spatial disrtibution model and a unigram language model.\n",
    "    Input: a list/collection of touch points that represents a certain word\n",
    "    Output: the decoded word for the input\n",
    "    \n",
    "    TODO: Step a --- Get all possible words and their corresponding probabilities from the dictionary. \n",
    "          Use the length of the correct word to filter possible words\n",
    "          You may also use the first and/or the last touchpoint to further narrow down possible words\n",
    "    \"\"\"\n",
    "    \n",
    "    possible_words = []\n",
    "    \n",
    "    # Calculate p(w|s_1, s_2, ... s_n) ~ p(s_1, s_2, ..., s_n|w)*p(w) = \\Pi(p(s_i|c_i))p(w) for each possible word\n",
    "    p_w_s = []                  # Holds p(w|s_1, s_2, ..., s_n) for all possible words\n",
    "    for item in possible_words:\n",
    "        word =                    # TODO: The current possible word\n",
    "        p_w =                     # TODO: Probability of the current possible word in the unigram language model\n",
    "        p_s_w = 1                 # Holds p(s_1, s_2, ..., s_n|w) for the current possible word\n",
    "\n",
    "        for j, letter in enumerate(list(word)):\n",
    "            # TODO: Step b --- Apply the spatial model to get p(s_i|c_i)\n",
    "            mu =\n",
    "            sigma =\n",
    "            p_s_c = \n",
    "            \n",
    "            # TODO: Step b --- Multiply the current p(s_i|c_i) to p(s_1, s_2, ..., s_n|W)\n",
    "        \n",
    "        # TODO: Step c --- Calculate p(w|s_1, s_2, ... s_n) from p(s_1, s_2, ..., s_n|w) and p(w). Append the result to list\n",
    "    \n",
    "    # TODO: Step d ---- Choose word by the maximum of p(w|s_1, s_2, ..., s_n)\n",
    "    decoded_word = \"\"\n",
    "    \n",
    "    return decoded_word"
   ]
  },
  {
   "cell_type": "code",
   "execution_count": null,
   "metadata": {
    "id": "WrRbMoZRCZ_u"
   },
   "outputs": [],
   "source": [
    "decoded_success_count = 0\n",
    "literal_success_count = 0\n",
    "decoded_words = []\n",
    "literal_strings = []\n",
    "correct_words = []\n",
    "for touchpoints in words:\n",
    "    \"\"\"\n",
    "    TODO: Use above methods to compute the correct word, decoded word, and the literal string for each touch point collection\n",
    "          Append results to the corresponding list\n",
    "          Update the decoded words/literal strings success count. \n",
    "              --- If the decoded word/literal string is the same as correct word, increase 1 to decoded words/literal strings success count\n",
    "    \"\"\"\n",
    "    \n",
    "# TODO: calculate the success rate for both the decoded words and the literal strings using the docoded word/literal string success count\n",
    "\n",
    "# TODO: Write to results.txt\n",
    "with open(\"results.txt\", 'w') as output:\n",
    "    # The first line: success_rate(decoded_words), success_rate(literal_strings)\n",
    "    for i in range(len(correct_words)):\n",
    "        # Each line after: correct_word, decoded_word, literal_string\n",
    "\n",
    "output.close()"
   ]
  }
 ],
 "metadata": {
  "colab": {
   "collapsed_sections": [],
   "name": "A2.ipynb",
   "provenance": []
  },
  "kernelspec": {
   "display_name": "Python 3.9.2 64-bit",
   "name": "python392jvsc74a57bd0b0fa6594d8f4cbf19f97940f81e996739fb7646882a419484c72d19e05852a7e"
  },
  "language_info": {
   "codemirror_mode": {
    "name": "ipython",
    "version": 3
   },
   "file_extension": ".py",
   "mimetype": "text/x-python",
   "name": "python",
   "nbconvert_exporter": "python",
   "pygments_lexer": "ipython3",
   "version": "3.9.2"
  },
  "metadata": {
   "interpreter": {
    "hash": "b0fa6594d8f4cbf19f97940f81e996739fb7646882a419484c72d19e05852a7e"
   }
  }
 },
 "nbformat": 4,
 "nbformat_minor": 1
}